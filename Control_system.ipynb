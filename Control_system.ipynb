{
 "cells": [
  {
   "cell_type": "code",
   "execution_count": null,
   "id": "785ecacf",
   "metadata": {},
   "outputs": [],
   "source": [
    "# module import\n",
    "import control as ctrl\n",
    "import matplotlib.pyplot as plt\n"
   ]
  },
  {
   "cell_type": "markdown",
   "id": "51981848",
   "metadata": {},
   "source": [
    "## 範例一：第一階理想系統的步級響應 (Step Response) 比較\n",
    "\n",
    "假設被控系統：\n",
    "\n",
    "$$\n",
    "G(s) = \\frac{1}{s + 1}\n",
    "$$\n",
    "\n",
    "1. **不加補償器**\n",
    "\n",
    "2. **加入 PD 控制器**\n",
    "\n",
    "$$\n",
    "C_{PD}(s) = K_p + K_d\\,s\n",
    "$$"
   ]
  },
  {
   "cell_type": "code",
   "execution_count": null,
   "id": "e9faa90b",
   "metadata": {},
   "outputs": [],
   "source": [
    "# 定義被控系統\n",
    "G = ctrl.TransferFunction([1], [1, 1])\n",
    "\n",
    "# 1) 開環純 G 的閉迴路響應\n",
    "T0 = ctrl.feedback(G, 1)\n",
    "t, y0 = ctrl.step_response(T0)\n",
    "\n",
    "# 2) 加入 PD 控制 C_pd(s) = Kd*s + Kp\n",
    "Kp, Kd = 2.0, 1.0\n",
    "C_pd = ctrl.TransferFunction([Kd, Kp], [1])\n",
    "T_pd = ctrl.feedback(C_pd * G, 1)\n",
    "t, y_pd = ctrl.step_response(T_pd)\n",
    "\n",
    "# 繪圖比較\n",
    "plt.figure()\n",
    "plt.plot(t, y0,  label='No Comp.')\n",
    "plt.plot(t, y_pd, label='PD (Kp=2, Kd=1)')\n",
    "plt.title('Step Response Comparison')\n",
    "plt.xlabel('Time [s]')\n",
    "plt.ylabel('Output')\n",
    "plt.legend()\n",
    "plt.grid(True)\n",
    "plt.show()\n"
   ]
  }
 ],
 "metadata": {
  "kernelspec": {
   "display_name": ".venv",
   "language": "python",
   "name": "python3"
  },
  "language_info": {
   "name": "python",
   "version": "3.12.0"
  }
 },
 "nbformat": 4,
 "nbformat_minor": 5
}
